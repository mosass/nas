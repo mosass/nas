{
 "cells": [
  {
   "cell_type": "code",
   "execution_count": 4,
   "metadata": {
    "scrolled": true
   },
   "outputs": [
    {
     "name": "stdout",
     "output_type": "stream",
     "text": [
      "tensorflow version :  2.1.0\n"
     ]
    }
   ],
   "source": [
    "\n",
    "import sys\n",
    "import os\n",
    "\n",
    "import numpy as np\n",
    "import tensorflow.compat.v1 as tf\n",
    "tf.disable_v2_behavior()\n",
    "from nasbench import api\n",
    "\n",
    "print(\"tensorflow version : \", tf.__version__)"
   ]
  },
  {
   "cell_type": "code",
   "execution_count": 5,
   "metadata": {},
   "outputs": [
    {
     "name": "stdout",
     "output_type": "stream",
     "text": [
      "  % Total    % Received % Xferd  Average Speed   Time    Time     Time  Current\n",
      "                                 Dload  Upload   Total   Spent    Left  Speed\n",
      "100  498M  100  498M    0     0  5028k      0  0:01:41  0:01:41 --:--:-- 6763k\n",
      "  % Total    % Received % Xferd  Average Speed   Time    Time     Time  Current\n",
      "                                 Dload  Upload   Total   Spent    Left  Speed\n",
      "100 1989M  100 1989M    0     0  5886k      0  0:05:46  0:05:46 --:--:-- 6559k  0:04:39  0:01:02 6328k  0  5926k      0  0:05:43  0:05:15  0:00:28 5066k\n"
     ]
    }
   ],
   "source": [
    "# Download NASBench dataset\n",
    "\n",
    "!curl -O https://storage.googleapis.com/nasbench/nasbench_only108.tfrecord\n",
    "!curl -O https://storage.googleapis.com/nasbench/nasbench_full.tfrecord"
   ]
  },
  {
   "cell_type": "code",
   "execution_count": 6,
   "metadata": {},
   "outputs": [
    {
     "name": "stdout",
     "output_type": "stream",
     "text": [
      "Loading dataset from file... This may take a few minutes...\n",
      "WARNING:tensorflow:From /tf/nasbench/api.py:147: tf_record_iterator (from tensorflow.python.lib.io.tf_record) is deprecated and will be removed in a future version.\n",
      "Instructions for updating:\n",
      "Use eager execution and: \n",
      "`tf.data.TFRecordDataset(path)`\n",
      "Loaded dataset in 46 seconds\n"
     ]
    }
   ],
   "source": [
    "# Load dataset\n",
    "nasbench = api.NASBench('nasbench_only108.tfrecord')\n",
    "# nasbench = api.NASBench('nasbench_full.tfrecord')"
   ]
  },
  {
   "cell_type": "code",
   "execution_count": 7,
   "metadata": {},
   "outputs": [],
   "source": [
    "# Standard imports\n",
    "import copy\n",
    "import numpy as np\n",
    "import matplotlib.pyplot as plt\n",
    "import random\n",
    "\n",
    "# Useful constants\n",
    "INPUT = 'input'\n",
    "OUTPUT = 'output'\n",
    "CONV3X3 = 'conv3x3-bn-relu'\n",
    "CONV1X1 = 'conv1x1-bn-relu'\n",
    "MAXPOOL3X3 = 'maxpool3x3'\n",
    "NUM_VERTICES = 7\n",
    "MAX_EDGES = 9\n",
    "EDGE_SPOTS = NUM_VERTICES * (NUM_VERTICES - 1) / 2   # Upper triangular matrix\n",
    "OP_SPOTS = NUM_VERTICES - 2   # Input/output vertices are fixed\n",
    "ALLOWED_OPS = [CONV3X3, CONV1X1, MAXPOOL3X3]\n",
    "ALLOWED_EDGES = [0, 1]   # Binary adjacency matrix"
   ]
  },
  {
   "cell_type": "code",
   "execution_count": 19,
   "metadata": {},
   "outputs": [
    {
     "name": "stdout",
     "output_type": "stream",
     "text": [
      "module_adjacency: [[0 1 1 1 1 0 0]\n",
      " [0 0 0 0 0 0 1]\n",
      " [0 0 0 0 0 0 1]\n",
      " [0 0 0 0 0 0 1]\n",
      " [0 0 0 0 0 1 0]\n",
      " [0 0 0 0 0 0 1]\n",
      " [0 0 0 0 0 0 0]]\n",
      "module_operations: ['input', 'conv3x3-bn-relu', 'conv1x1-bn-relu', 'maxpool3x3', 'conv3x3-bn-relu', 'conv3x3-bn-relu', 'output']\n",
      "trainable_parameters: 2694282\n",
      "training_time: 1155.85302734375\n",
      "train_accuracy: 1.0\n",
      "validation_accuracy: 0.9376001358032227\n",
      "test_accuracy: 0.9311898946762085\n"
     ]
    }
   ],
   "source": [
    "# Query an Inception-like cell from the dataset.\n",
    "cell = api.ModelSpec(\n",
    "  matrix=[[0, 1, 1, 1, 0, 1, 0],    # input layer\n",
    "          [0, 0, 0, 0, 0, 0, 1],    # 1x1 conv\n",
    "          [0, 0, 0, 0, 0, 0, 1],    # 3x3 conv\n",
    "          [0, 0, 0, 0, 1, 0, 0],    # 5x5 conv (replaced by two 3x3's)\n",
    "          [0, 0, 0, 0, 0, 0, 1],    # 5x5 conv (replaced by two 3x3's)\n",
    "          [0, 0, 0, 0, 0, 0, 1],    # 3x3 max-pool\n",
    "          [0, 0, 0, 0, 0, 0, 0]],   # output layer\n",
    "  # Operations at the vertices of the module, matches order of matrix.\n",
    "  ops=[INPUT, CONV1X1, CONV3X3, CONV3X3, CONV3X3, MAXPOOL3X3, OUTPUT])\n",
    "\n",
    "# Querying multiple times may yield different results. Each cell is evaluated 3\n",
    "# times at each epoch budget and querying will sample one randomly.\n",
    "data = nasbench.query(cell, 108, False)\n",
    "for k, v in data.items():\n",
    "  print('%s: %s' % (k, str(v)))"
   ]
  },
  {
   "cell_type": "code",
   "execution_count": null,
   "metadata": {},
   "outputs": [],
   "source": []
  }
 ],
 "metadata": {
  "file_extension": ".py",
  "kernelspec": {
   "display_name": "Python 3",
   "language": "python",
   "name": "python3"
  },
  "language_info": {
   "codemirror_mode": {
    "name": "ipython",
    "version": 3
   },
   "file_extension": ".py",
   "mimetype": "text/x-python",
   "name": "python",
   "nbconvert_exporter": "python",
   "pygments_lexer": "ipython3",
   "version": "3.6.9"
  },
  "mimetype": "text/x-python",
  "name": "python",
  "npconvert_exporter": "python",
  "pygments_lexer": "ipython3",
  "version": 3
 },
 "nbformat": 4,
 "nbformat_minor": 2
}
