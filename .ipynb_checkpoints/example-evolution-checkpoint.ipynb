{
 "cells": [
  {
   "cell_type": "code",
   "execution_count": 1,
   "metadata": {
    "scrolled": true
   },
   "outputs": [
    {
     "name": "stdout",
     "output_type": "stream",
     "text": [
      "WARNING:tensorflow:From /usr/local/lib/python3.6/dist-packages/tensorflow_core/python/compat/v2_compat.py:88: disable_resource_variables (from tensorflow.python.ops.variable_scope) is deprecated and will be removed in a future version.\n",
      "Instructions for updating:\n",
      "non-resource variables are not supported in the long term\n",
      "tensorflow version :  2.1.0\n"
     ]
    }
   ],
   "source": [
    "\n",
    "import sys\n",
    "import os\n",
    "\n",
    "# Standard imports\n",
    "import copy\n",
    "import numpy as np\n",
    "import matplotlib.pyplot as plt\n",
    "import random\n",
    "\n",
    "import numpy as np\n",
    "import tensorflow.compat.v1 as tf\n",
    "tf.disable_v2_behavior()\n",
    "from nasbench import api\n",
    "\n",
    "print(\"tensorflow version : \", tf.__version__)\n",
    "\n",
    "# Useful constants\n",
    "INPUT = 'input'\n",
    "OUTPUT = 'output'\n",
    "CONV3X3 = 'conv3x3-bn-relu'\n",
    "CONV1X1 = 'conv1x1-bn-relu'\n",
    "MAXPOOL3X3 = 'maxpool3x3'\n",
    "NUM_VERTICES = 7\n",
    "MAX_EDGES = 9\n",
    "EDGE_SPOTS = NUM_VERTICES * (NUM_VERTICES - 1) / 2   # Upper triangular matrix\n",
    "OP_SPOTS = NUM_VERTICES - 2   # Input/output vertices are fixed\n",
    "ALLOWED_OPS = [CONV3X3, CONV1X1, MAXPOOL3X3]\n",
    "ALLOWED_EDGES = [0, 1]   # Binary adjacency matrix"
   ]
  },
  {
   "cell_type": "code",
   "execution_count": 5,
   "metadata": {},
   "outputs": [
    {
     "name": "stdout",
     "output_type": "stream",
     "text": [
      "  % Total    % Received % Xferd  Average Speed   Time    Time     Time  Current\n",
      "                                 Dload  Upload   Total   Spent    Left  Speed\n",
      "100  498M  100  498M    0     0  5028k      0  0:01:41  0:01:41 --:--:-- 6763k\n",
      "  % Total    % Received % Xferd  Average Speed   Time    Time     Time  Current\n",
      "                                 Dload  Upload   Total   Spent    Left  Speed\n",
      "100 1989M  100 1989M    0     0  5886k      0  0:05:46  0:05:46 --:--:-- 6559k  0:04:39  0:01:02 6328k  0  5926k      0  0:05:43  0:05:15  0:00:28 5066k\n"
     ]
    }
   ],
   "source": [
    "# Download NASBench dataset\n",
    "\n",
    "# !curl -O https://storage.googleapis.com/nasbench/nasbench_only108.tfrecord\n",
    "# !curl -O https://storage.googleapis.com/nasbench/nasbench_full.tfrecord"
   ]
  },
  {
   "cell_type": "code",
   "execution_count": 2,
   "metadata": {},
   "outputs": [
    {
     "name": "stdout",
     "output_type": "stream",
     "text": [
      "Loading dataset from file... This may take a few minutes...\n",
      "WARNING:tensorflow:From /tf/nasbench/api.py:147: tf_record_iterator (from tensorflow.python.lib.io.tf_record) is deprecated and will be removed in a future version.\n",
      "Instructions for updating:\n",
      "Use eager execution and: \n",
      "`tf.data.TFRecordDataset(path)`\n",
      "Loaded dataset in 186 seconds\n"
     ]
    }
   ],
   "source": [
    "# Load dataset\n",
    "# nasbench = api.NASBench('nasbench_only108.tfrecord')\n",
    "nasbench = api.NASBench('nasbench_full.tfrecord')"
   ]
  },
  {
   "cell_type": "code",
   "execution_count": 11,
   "metadata": {},
   "outputs": [],
   "source": [
    "def random_spec():\n",
    "  \"\"\"Returns a random valid spec.\"\"\"\n",
    "  while True:\n",
    "    matrix = np.random.choice(ALLOWED_EDGES, size=(NUM_VERTICES, NUM_VERTICES))\n",
    "    matrix = np.triu(matrix, 1)\n",
    "    ops = np.random.choice(ALLOWED_OPS, size=(NUM_VERTICES)).tolist()\n",
    "    ops[0] = INPUT\n",
    "    ops[-1] = OUTPUT\n",
    "    spec = api.ModelSpec(matrix=matrix, ops=ops)\n",
    "    if nasbench.is_valid(spec):\n",
    "      return spec\n",
    "\n",
    "def mutate_spec(old_spec, mutation_rate=1.0):\n",
    "  \"\"\"Computes a valid mutated spec from the old_spec.\"\"\"\n",
    "  while True:\n",
    "    new_matrix = copy.deepcopy(old_spec.original_matrix)\n",
    "    new_ops = copy.deepcopy(old_spec.original_ops)\n",
    "\n",
    "    # In expectation, V edges flipped (note that most end up being pruned).\n",
    "    edge_mutation_prob = mutation_rate / NUM_VERTICES\n",
    "    for src in range(0, NUM_VERTICES - 1):\n",
    "      for dst in range(src + 1, NUM_VERTICES):\n",
    "        if random.random() < edge_mutation_prob:\n",
    "          new_matrix[src, dst] = 1 - new_matrix[src, dst]\n",
    "          \n",
    "    # In expectation, one op is resampled.\n",
    "    op_mutation_prob = mutation_rate / OP_SPOTS\n",
    "    for ind in range(1, NUM_VERTICES - 1):\n",
    "      if random.random() < op_mutation_prob:\n",
    "        available = [o for o in nasbench.config['available_ops'] if o != new_ops[ind]]\n",
    "        new_ops[ind] = random.choice(available)\n",
    "        \n",
    "    new_spec = api.ModelSpec(new_matrix, new_ops)\n",
    "    if nasbench.is_valid(new_spec):\n",
    "      return new_spec\n",
    "\n",
    "def random_combination(iterable, sample_size):\n",
    "  \"\"\"Random selection from itertools.combinations(iterable, r).\"\"\"\n",
    "  pool = tuple(iterable)\n",
    "  n = len(pool)\n",
    "  indices = sorted(random.sample(range(n), sample_size))\n",
    "  return tuple(pool[i] for i in indices)\n",
    "\n",
    "def run_evolution_search(max_time_budget=5e6,\n",
    "                         population_size=50,\n",
    "                         tournament_size=10,\n",
    "                         mutation_rate=1.0):\n",
    "  \"\"\"Run a single roll-out of regularized evolution to a fixed time budget.\"\"\"\n",
    "  nasbench.reset_budget_counters()\n",
    "  times, best_valids, best_tests = [0.0], [0.0], [0.0]\n",
    "  population = []   # (validation, spec) tuples\n",
    "\n",
    "  # For the first population_size individuals, seed the population with randomly\n",
    "  # generated cells.\n",
    "  for _ in range(population_size):\n",
    "    spec = random_spec()\n",
    "    data = nasbench.query(spec)\n",
    "    time_spent, _ = nasbench.get_budget_counters()\n",
    "    times.append(time_spent)\n",
    "    population.append((data['validation_accuracy'], spec))\n",
    "\n",
    "    if data['validation_accuracy'] > best_valids[-1]:\n",
    "      best_valids.append(data['validation_accuracy'])\n",
    "      best_tests.append(data['test_accuracy'])\n",
    "    else:\n",
    "      best_valids.append(best_valids[-1])\n",
    "      best_tests.append(best_tests[-1])\n",
    "\n",
    "    if time_spent > max_time_budget:\n",
    "      break\n",
    "\n",
    "  # After the population is seeded, proceed with evolving the population.\n",
    "  while True:\n",
    "    sample = random_combination(population, tournament_size)\n",
    "    best_spec = sorted(sample, key=lambda i:i[0])[-1][1]\n",
    "    new_spec = mutate_spec(best_spec, mutation_rate)\n",
    "\n",
    "    data = nasbench.query(new_spec)\n",
    "    time_spent, _ = nasbench.get_budget_counters()\n",
    "    times.append(time_spent)\n",
    "\n",
    "    # In regularized evolution, we kill the oldest individual in the population.\n",
    "    population.append((data['validation_accuracy'], new_spec))\n",
    "    population.pop(0)\n",
    "\n",
    "    if data['validation_accuracy'] > best_valids[-1]:\n",
    "      best_valids.append(data['validation_accuracy'])\n",
    "      best_tests.append(data['test_accuracy'])\n",
    "    else:\n",
    "      best_valids.append(best_valids[-1])\n",
    "      best_tests.append(best_tests[-1])\n",
    "\n",
    "    if time_spent > max_time_budget:\n",
    "      break\n",
    "\n",
    "  return times, best_valids, best_tests"
   ]
  },
  {
   "cell_type": "code",
   "execution_count": 14,
   "metadata": {},
   "outputs": [
    {
     "name": "stdout",
     "output_type": "stream",
     "text": [
      "Epoch 1: t=5000324.900665283, bv=0.9495192170143127, bt=0.9419070482254028\n",
      "Epoch 2: t=5001032.644317627, bv=0.9511218070983887, bt=0.9396033883094788\n",
      "Epoch 3: t=5001352.279174805, bv=0.9489182829856873, bt=0.9412059187889099\n",
      "Epoch 4: t=5001906.729614258, bv=0.9511218070983887, bt=0.9432091116905212\n",
      "Epoch 5: t=5000410.472229004, bv=0.9489182829856873, bt=0.9412059187889099\n",
      "Epoch 6: t=5001076.486236572, bv=0.9518229365348816, bt=0.9436097741127014\n",
      "Epoch 7: t=5001909.937194824, bv=0.9495192170143127, bt=0.9420071840286255\n",
      "Epoch 8: t=5000703.263763428, bv=0.9496194124221802, bt=0.9399038553237915\n",
      "Epoch 9: t=5001691.940338135, bv=0.9494190812110901, bt=0.9388020634651184\n",
      "Epoch 10: t=5000629.816375732, bv=0.9486178159713745, bt=0.9412059187889099\n"
     ]
    }
   ],
   "source": [
    "# Run evolution search 10 times each. This should take a few\n",
    "# minutes to run. Note that each run would have taken days of compute to\n",
    "# actually train and evaluate if the dataset were not precomputed.\n",
    "evolution_data = []\n",
    "for repeat in range(10):\n",
    "  print('Running repeat %d' % (repeat + 1))\n",
    "  times, best_valid, best_test = run_evolution_search()\n",
    "  evolution_data.append((times, best_valid, best_test))"
   ]
  },
  {
   "cell_type": "code",
   "execution_count": 9,
   "metadata": {},
   "outputs": [
    {
     "data": {
      "text/plain": [
       "Text(0.5, 1.0, 'Random search trajectories (red=validation, blue=test)')"
      ]
     },
     "execution_count": 9,
     "metadata": {},
     "output_type": "execute_result"
    },
    {
     "data": {
      "image/png": "[encoded data removed]",
      "text/plain": [
       "<Figure size 1440x360 with 1 Axes>"
      ]
     },
     "metadata": {
      "needs_background": "light"
     },
     "output_type": "display_data"
    }
   ],
   "source": [
    "plt.figure(figsize=(20, 5))\n",
    "\n",
    "plt.subplot(1, 3, 1)\n",
    "for times, best_valid, best_test in evolution_data:\n",
    "  plt.plot(times, best_valid, label='valid', color='red', alpha=0.5)\n",
    "  plt.plot(times, best_test, label='test', color='blue', alpha=0.5)\n",
    "\n",
    "plt.ylabel('accuracy')\n",
    "plt.xlabel('time spent (seconds)')\n",
    "plt.ylim(0.92, 0.96)\n",
    "plt.grid()\n",
    "plt.title('Random search trajectories (red=validation, blue=test)')"
   ]
  },
  {
   "cell_type": "code",
   "execution_count": null,
   "metadata": {},
   "outputs": [],
   "source": []
  }
 ],
 "metadata": {
  "file_extension": ".py",
  "kernelspec": {
   "display_name": "Python 3",
   "language": "python",
   "name": "python3"
  },
  "language_info": {
   "codemirror_mode": {
    "name": "ipython",
    "version": 3
   },
   "file_extension": ".py",
   "mimetype": "text/x-python",
   "name": "python",
   "nbconvert_exporter": "python",
   "pygments_lexer": "ipython3",
   "version": "3.6.9"
  },
  "mimetype": "text/x-python",
  "name": "python",
  "npconvert_exporter": "python",
  "pygments_lexer": "ipython3",
  "version": 3
 },
 "nbformat": 4,
 "nbformat_minor": 2
}
